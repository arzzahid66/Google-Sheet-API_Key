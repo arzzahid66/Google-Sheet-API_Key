{
 "cells": [
  {
   "cell_type": "code",
   "execution_count": 1,
   "metadata": {},
   "outputs": [],
   "source": [
    "import requests"
   ]
  },
  {
   "cell_type": "markdown",
   "metadata": {},
   "source": [
    "![Google Sheets Image](googlesheets.png)"
   ]
  },
  {
   "cell_type": "code",
   "execution_count": 11,
   "metadata": {},
   "outputs": [
    {
     "name": "stdout",
     "output_type": "stream",
     "text": [
      "['name ', 'age ']\n",
      "['ali', '22']\n"
     ]
    }
   ],
   "source": [
    "\n",
    "\n",
    "# Your API key\n",
    "# # past here your google sheet api key\n",
    "API_KEY = \"google sheet api key\"\n",
    "\n",
    "# Here is full link of sheet make sure it should public link : \n",
    "                                                               #start                                      # end \n",
    "# full link of sheet = \"https://docs.google.com/spreadsheets/d/1E0ON1vdtVX2ydG1AkRGgrCCKkCZt-f6RTt23SmHFs6U/edit?pli=1&gid=0#gid=0\"\n",
    "\n",
    "SHEET_ID = \"1E0ON1vdtVX2ydG1AkRGgrCCKkCZt-f6RTt23SmHFs6U\"\n",
    "\n",
    "# The range of data you want to access (e.g., Sheet1!A1:D10)\n",
    "RANGE = 'Sheet1!A1:D10'\n",
    "\n",
    "# Google Sheets API URL\n",
    "url = f'https://sheets.googleapis.com/v4/spreadsheets/{SHEET_ID}/values/{RANGE}?key={API_KEY}'\n",
    "\n",
    "# Make the API request\n",
    "response = requests.get(url)\n",
    "\n",
    "# Check if the request was successful\n",
    "if response.status_code == 200:\n",
    "    data = response.json()\n",
    "    # Extract the rows of data\n",
    "    rows = data.get('values', [])\n",
    "    \n",
    "    # Print the data\n",
    "    for row in rows:\n",
    "        print(row)\n",
    "else:\n",
    "    print(f\"Failed to retrieve data: {response.status_code} - {response.text}\")\n"
   ]
  },
  {
   "cell_type": "code",
   "execution_count": null,
   "metadata": {},
   "outputs": [],
   "source": []
  }
 ],
 "metadata": {
  "kernelspec": {
   "display_name": "xeven_lang",
   "language": "python",
   "name": "python3"
  },
  "language_info": {
   "codemirror_mode": {
    "name": "ipython",
    "version": 3
   },
   "file_extension": ".py",
   "mimetype": "text/x-python",
   "name": "python",
   "nbconvert_exporter": "python",
   "pygments_lexer": "ipython3",
   "version": "3.11.10"
  }
 },
 "nbformat": 4,
 "nbformat_minor": 2
}
